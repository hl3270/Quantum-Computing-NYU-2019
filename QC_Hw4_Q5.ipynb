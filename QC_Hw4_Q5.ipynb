{
 "cells": [
  {
   "cell_type": "code",
   "execution_count": 1,
   "metadata": {},
   "outputs": [],
   "source": [
    "import numpy as np\n",
    "from math import *\n",
    "from qiskit import *\n",
    "from qiskit import Aer"
   ]
  },
  {
   "cell_type": "code",
   "execution_count": 2,
   "metadata": {},
   "outputs": [
    {
     "data": {
      "image/png": "[encoded data removed]",
      "text/plain": [
       "<Figure size 244.412x144.48 with 1 Axes>"
      ]
     },
     "execution_count": 2,
     "metadata": {},
     "output_type": "execute_result"
    }
   ],
   "source": [
    "backend = Aer.get_backend('qasm_simulator')\n",
    "\n",
    "qr = QuantumRegister(1)\n",
    "cr = ClassicalRegister(1)\n",
    "qc = QuantumCircuit(qr,cr)\n",
    "\n",
    "qc.h(0)\n",
    "qc.measure(0,0)\n",
    "\n",
    "qc.draw(output='mpl')"
   ]
  },
  {
   "cell_type": "code",
   "execution_count": 3,
   "metadata": {},
   "outputs": [
    {
     "name": "stdout",
     "output_type": "stream",
     "text": [
      "['1', '1', '0', '0', '1', '0', '1', '1', '0', '0', '1', '1', '0', '0', '1']\n",
      "19667\n",
      "100110011010011\n"
     ]
    }
   ],
   "source": [
    "# Initialize the n-bit binary number\n",
    "n = 15\n",
    "a = np.empty(n, dtype=int)\n",
    "\n",
    "# Execute the circuit on the qasm simulator.\n",
    "job = execute(qc, backend, shots=n, memory=True)\n",
    "result = job.result()\n",
    "m = result.get_memory()\n",
    "print(m) # notice that the array starts from the right\n",
    "\n",
    "i = 0    # index of measurements(qubits)\n",
    "r = 0    # output number\n",
    "\n",
    "while i < n:\n",
    "    a[i]=m[i]\n",
    "    r += a[i] * pow(2,i)\n",
    "    i += 1\n",
    "    \n",
    "print('%d' %(r))\n",
    "print(\"{0:b}\".format(int(r)))"
   ]
  }
 ],
 "metadata": {
  "kernelspec": {
   "display_name": "Python 3",
   "language": "python",
   "name": "python3"
  },
  "language_info": {
   "codemirror_mode": {
    "name": "ipython",
    "version": 3
   },
   "file_extension": ".py",
   "mimetype": "text/x-python",
   "name": "python",
   "nbconvert_exporter": "python",
   "pygments_lexer": "ipython3",
   "version": "3.7.3"
  }
 },
 "nbformat": 4,
 "nbformat_minor": 2
}
